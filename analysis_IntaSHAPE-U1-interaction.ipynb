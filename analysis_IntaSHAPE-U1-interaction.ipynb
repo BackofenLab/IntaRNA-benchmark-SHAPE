{
 "cells": [
  {
   "cell_type": "markdown",
   "metadata": {},
   "source": [
    "# SHAPE enabled-RNA-RNA interaction prediction"
   ]
  },
  {
   "cell_type": "markdown",
   "metadata": {},
   "source": [
    "## Dependencies\n",
    "\n",
    "* All dependencies to run this Notebook has been provided in the conda dependeny file.\n",
    "* The notebook has been tested on Linux 64bit systems with miniconda-3 installed"
   ]
  },
  {
   "cell_type": "code",
   "execution_count": 1,
   "metadata": {
    "code_folding": []
   },
   "outputs": [],
   "source": [
    "# Python libs import\n",
    "import os\n",
    "import pandas as pd\n",
    "from subprocess import Popen, PIPE\n",
    "import subprocess\n",
    "import math\n",
    "import numpy as np\n",
    "import seaborn as sns\n",
    "from matplotlib import pyplot as plt\n",
    "import matplotlib.ticker as plticker\n",
    "from Bio import SeqIO"
   ]
  },
  {
   "cell_type": "code",
   "execution_count": 2,
   "metadata": {},
   "outputs": [],
   "source": [
    "# Reference genome datasets for mRNA and splice site extractions\n",
    "# Can be obtained from NCBI database\n",
    "# ftp://ftp.ncbi.nlm.nih.gov/genomes/all/GCF/000/001/735/GCF_000001735.3_TAIR10/\n",
    "TAIR_genome = '../../../DataBase/TAIR/GCF_000001735.3_TAIR10_genomic.fna'\n",
    "TAIR_gff_NCBI = '../../../DataBase/TAIR/GCF_000001735.3_TAIR10_genomic.gff.gz'\n",
    "TAIR_gff = TAIR_gff_NCBI\n",
    "\n",
    "# Interaction query (U1 snRNA) data\n",
    "query_id = \"ENSRNA049495626-T1-U1\"\n",
    "query_fasta = './data/U1/ENSRNA049495626-T1-U1.fa'\n",
    "query_react = './data/U1/ENSRNA049495626-T1-U1.react'\n",
    "query_react_idless = './data/U1/ENSRNA049495626-T1-U1.noid.react'"
   ]
  },
  {
   "cell_type": "code",
   "execution_count": 3,
   "metadata": {},
   "outputs": [],
   "source": [
    "# IntaRNA configurations\n",
    "\n",
    "# For using binary from PATH and Conda keep below var empty\n",
    "PATH_INTARNA = '' #./IntaRNA/src/bin/'\n",
    "INTARNA_BIN = os.path.join(PATH_INTARNA, 'IntaRNA') \n",
    "\n",
    "# IntaRNA parameters needed for producing heatmaps and tables, \n",
    "# Important: The temperature is set for Arabidopsis/plants\n",
    "INTARNA_ARGS = \"-n 20 --outOverlap=B --outMode=C --seedBP=5 --temperature 22  --qAccW 0 --qAccL 0 \"\n"
   ]
  },
  {
   "cell_type": "code",
   "execution_count": 4,
   "metadata": {},
   "outputs": [
    {
     "name": "stdout",
     "output_type": "stream",
     "text": [
      "IntaRNA 2.2.0\r\n"
     ]
    }
   ],
   "source": [
    "# Check intarna version, support for V2.2.0 or later\n",
    "! $INTARNA_BIN --version"
   ]
  },
  {
   "cell_type": "markdown",
   "metadata": {},
   "source": [
    "### Methods to extract exon junctions of single gene from gff file"
   ]
  },
  {
   "cell_type": "code",
   "execution_count": 5,
   "metadata": {
    "code_folding": [
     0
    ],
    "scrolled": false
   },
   "outputs": [],
   "source": [
    "def gene_gff_to_df(gene_name):\n",
    "    gene_gff = gene_name+'.gff'\n",
    "    gzip_cmd = \"gunzip -c {} | grep 'gene={};'  > {}\".format(TAIR_gff, gene_name, gene_gff)\n",
    "    #print(gzip_cmd)\n",
    "    subprocess.call(gzip_cmd, shell=True)\n",
    "\n",
    "    df_gff = pd.read_csv(gene_gff, sep='\\t',header=None,comment=\"#\",\n",
    "                     names=['seqname','source','feature','start','end','score','strand','frame','attribute'])\n",
    "\n",
    "    #print(df_gff)\n",
    "    df_genes = df_gff[df_gff['feature']=='gene']\n",
    "    if len(df_genes) > 1:\n",
    "        print (\"BIG WARNING: multiple isoforms(?) found & IGNORED for gene\", gene_name)\n",
    "        print (\"Genes with same name (isoforms?)\")\n",
    "    #print (df_genes.iloc[:,0:7])\n",
    "    df_gff_exons = df_gff[df_gff['feature']=='CDS'].sort_values('start')\n",
    "    df_gff_exons_uniqs = df_gff_exons.drop_duplicates(subset=['start','end']).copy()\n",
    "    return df_gff_exons_uniqs, df_genes.iloc[0:1]\n",
    "# Test case:\n",
    "# gene_gff_to_df('ACT1')\n",
    "\n",
    "def df_gff_to_bed_fasta(df, gene_name):\n",
    "    bed_df = df['seqname'].map(str) + '\\t' + df['start'].map(str) + '\\t' +\\\n",
    "        df['end'].map(str) + '\\t' +\\\n",
    "        gene_name+'-'+df.index.map(str) + '\\t' +\\\n",
    "        '1\\t' + df['strand'].map(str)\n",
    "    bed_str = '\\n'.join(bed_df.values)\n",
    "    #print(bed_str)\n",
    "    bed_file = gene_name+'.bed'\n",
    "    fasta_genes_genomic = gene_name + '-genomic.fa'\n",
    "    print ('bedtools getfasta on ', fasta_genes_genomic)    \n",
    "    with open(bed_file, 'w') as bed_out:\n",
    "        bed_out.write(bed_str)\n",
    "        \n",
    "    bed_cmd = 'bedtools getfasta -fi {} -bed {} -fo {} -s -name'.format(\n",
    "        TAIR_genome, bed_file, fasta_genes_genomic)\n",
    "    p = Popen(bed_cmd, shell=True, stdin=PIPE, stdout=PIPE, stderr=PIPE)\n",
    "    out, err = p.communicate()\n",
    "    #print(bed_cmd)\n",
    "    if (err):\n",
    "        raise RuntimeError('Error in bedtools\\n{}\\n{}'.format(out, err))\n",
    "    #print (out)\n",
    "    \n",
    "    return fasta_genes_genomic\n",
    "\n",
    "def compute_relative_locs(df_gff, gene_start, gene_end, strand):\n",
    "    if (strand == '+'):\n",
    "        df_gff.loc[:,'relative-start']= df_gff['start'] - gene_start+1\n",
    "        df_gff.loc[:,'relative-end'] =  df_gff['end'] - gene_start+1\n",
    "        ret_arr = [(r['relative-start'],r['relative-end']) for ir, r in df_gff.iterrows()]        \n",
    "        \n",
    "    elif (strand == '-'):\n",
    "        df_gff.loc[:,'relative-start']= -df_gff['start'] + gene_end+1\n",
    "        df_gff.loc[:,'relative-end'] =  -df_gff['end'] + gene_end+1\n",
    "        ret_arr = [(r['relative-end'],r['relative-start']) for ir, r in df_gff.iterrows()]        \n",
    "    else:\n",
    "        raise RuntimeError('Strand type error')\n",
    "    return sorted(ret_arr)\n",
    "\n"
   ]
  },
  {
   "cell_type": "markdown",
   "metadata": {},
   "source": [
    "## Run IntaRNA"
   ]
  },
  {
   "cell_type": "markdown",
   "metadata": {},
   "source": [
    "### Parse IntaRNA csv interaction spot probabilities outpu"
   ]
  },
  {
   "cell_type": "code",
   "execution_count": 6,
   "metadata": {
    "code_folding": [],
    "scrolled": true
   },
   "outputs": [
    {
     "name": "stdout",
     "output_type": "stream",
     "text": [
      "plot_spotprobs\n",
      "parse_spotprobs\n"
     ]
    },
    {
     "name": "stderr",
     "output_type": "stream",
     "text": [
      "/home/milad/miniconda3/envs/intaSHAPE/lib/python3.6/site-packages/matplotlib/scale.py:111: RuntimeWarning: invalid value encountered in less_equal\n",
      "  out[a <= 0] = -1000\n"
     ]
    },
    {
     "data": {
      "image/png": "[encoded data removed]",
      "text/plain": [
       "<matplotlib.figure.Figure at 0x7f84bc7e7e48>"
      ]
     },
     "metadata": {},
     "output_type": "display_data"
    }
   ],
   "source": [
    "def parse_spotprobs(file1, file2, suffixes=['_STD','_SHAPE'],skip_0_0_spot=True):\n",
    "    print(\"parse_spotprobs\")\n",
    "    df1 = pd.read_csv(file1,sep=';')\n",
    "    df2 = pd.read_csv(file2,sep=';')\n",
    "    df12 = pd.merge(df1, df2, on='spot', suffixes=suffixes)\n",
    "    if skip_0_0_spot:\n",
    "        df12 = df12[df12['spot']!='0&0']\n",
    "    df12['probability_SHAPE/probability_STD'] = (df12['probability_SHAPE']+1e-50)/(df12['probability_STD']+1e-50)\n",
    "    df12['log2(probability_SHAPE/probability_STD)'] = np.log2(df12['probability_SHAPE/probability_STD'])\n",
    "    return df12\n",
    "def plot_spotprobs(file1, file2,skip_0_0_spot=True,what='both'):\n",
    "    print(\"plot_spotprobs\")\n",
    "    dfspotprobs = parse_spotprobs(file1, file2,skip_0_0_spot=skip_0_0_spot)\n",
    "    \n",
    "    dfmelt = pd.melt(dfspotprobs,  id_vars =['spot'], value_vars=['probability_STD','probability_SHAPE'])\n",
    "    if what=='both':\n",
    "        fig, (ax1,ax2) = plt.subplots(figsize=[9,4],ncols=2)\n",
    "        sns.barplot(data=dfmelt, x='spot',y='value',hue='variable',ax=ax1)\n",
    "        ax1.legend(bbox_to_anchor=(0,1.0,1,0.2), loc=\"lower left\",\n",
    "                #mode=\"expand\", \n",
    "                   borderaxespad=0.1)#bbox_to_anchor=(1, 1.2), loc=1, borderaxespad=0.)#(bbox_to_anchor=(1,0), loc=\"lower right\")\n",
    "        #plt.subplots_adjust(left=0.3,top=0.8)    \n",
    "        ax1.set_yscale('log')\n",
    "        sns.barplot(data=dfspotprobs, x='spot',color='b',y='log2(probability_SHAPE/probability_STD)',ax=ax2)\n",
    "        \n",
    "    else:\n",
    "        fig, ax1 = plt.subplots(figsize=[max(3,len(dfspotprobs)),4])\n",
    "        sns.barplot(data=dfmelt, x='spot',y='value',hue='variable',ax=ax1)\n",
    "        plt.legend(bbox_to_anchor=(0,1.02,1,0.2), loc=\"lower left\",\n",
    "                mode=\"expand\", borderaxespad=0.1)#bbox_to_anchor=(1, 1.2), loc=1, borderaxespad=0.)#(bbox_to_anchor=(1,0), loc=\"lower right\")\n",
    "        plt.subplots_adjust(left=0.3,top=0.8)\n",
    "    \n",
    "        ax1.set_yscale('log')\n",
    "        #ax1.set_title(file1)\n",
    "\n",
    "    return dfspotprobs,fig\n",
    "    \n",
    "# Test case:\n",
    "spotprobs_file1 = 'intarna-spotProbs_ACT1-ENSRNA049495626-T1-U1.csv'\n",
    "spotprobs_file2 = 'intarna-spotProbs_ACT1-ENSRNA049495626-T1-U1_INTARNASHAPE_.csv'\n",
    "x =plot_spotprobs(spotprobs_file1, spotprobs_file2,skip_0_0_spot=True,what='both')"
   ]
  },
  {
   "cell_type": "code",
   "execution_count": 7,
   "metadata": {},
   "outputs": [],
   "source": [
    "sns.barplot?"
   ]
  },
  {
   "cell_type": "markdown",
   "metadata": {},
   "source": [
    "### Call IntaRNA, extract interaction probabilities and plot heatmap "
   ]
  },
  {
   "cell_type": "code",
   "execution_count": null,
   "metadata": {
    "code_folding": [
     33,
     58,
     88
    ],
    "scrolled": false
   },
   "outputs": [
    {
     "name": "stdout",
     "output_type": "stream",
     "text": [
      "bedtools getfasta on  RPS9-genomic.fa\n",
      "IntaRNA --target=RPS9-genomic.fa.CDS.fa --query=./data/U1/ENSRNA049495626-T1-U1.fa --out=pMinE:intarna-heatmap_RPS9-ENSRNA049495626-T1-U1.csv --out=intarna-subopts_RPS9-ENSRNA049495626-T1-U1.csv --out=\"spotProb:340&8:intarna-spotProbs_RPS9-ENSRNA049495626-T1-U1.csv\"  -n 20 --outOverlap=B --outMode=C --seedBP=5 --temperature 22  --qAccW 0 --qAccL 0  \n"
     ]
    }
   ],
   "source": [
    "%matplotlib inline\n",
    "\n",
    "def plot_minE_heatmap(df, exon_regions, figtitle, fig=None, ax=None,\n",
    "                      plot_selected_exon=None, exon_context_len=100):\n",
    "    savefig = False\n",
    "    if (fig is None):\n",
    "        savefig = True\n",
    "        fig, ax = plt.subplots(figsize=[20,5])\n",
    "    mydf = df.iloc[:,1:]#.transpose()\n",
    "    # mydf[mydf>0] = 'NaN'\n",
    "    mydf[mydf>0] = None\n",
    "    [ax.axvspan(ex[0]-1,ex[1]-1, alpha=0.2) for ex in exon_regions]\n",
    "\n",
    "    sns.heatmap(mydf.transpose(),ax=ax)\n",
    "    ax.set_ylim(ax.get_ylim()[1],ax.get_ylim()[0])\n",
    "    \n",
    "    \n",
    "    use_custom_ticks=True\n",
    "    if use_custom_ticks:\n",
    "        ax.xaxis.set_major_locator(plticker.MultipleLocator(base=500,))\n",
    "        ax.yaxis.set_major_locator(plticker.MultipleLocator(base=50,))\n",
    "        majorFormatter = plticker.FormatStrFormatter('%d')\n",
    "        ax.xaxis.set_major_formatter(majorFormatter)\n",
    "        ax.yaxis.set_major_formatter(majorFormatter)\n",
    "    if plot_selected_exon is not None:\n",
    "        exon_junction = exon_regions[plot_selected_exon][1]\n",
    "        ax.set_xlim(exon_junction-exon_context_len,exon_junction+exon_context_len+1)\n",
    "        \n",
    "    if 'NOSHAPE' in figtitle:\n",
    "        ax.set_title('STD')\n",
    "    elif 'SHAPE' in figtitle:\n",
    "        ax.set_title('SHAPE')\n",
    "    else:\n",
    "        ax.set_title('STD')\n",
    "    if savefig:\n",
    "        fig.savefig(figtitle+'.png')\n",
    "    # sns.heatmap(df_SHAPE.iloc[:,1:5],ax=ax)\n",
    "    \n",
    "def run_intaRNA_precomputed_access(query_fa, target_fa, query_id, target_id, acc_lunp=None, out_suffix=''):\n",
    "\n",
    "    # Make a shell command line\n",
    "    subopt_csv = 'intarna-subopts_{}-{}{}.csv'.format(target_id, query_id, out_suffix)\n",
    "    heatmap_csv = 'intarna-heatmap_{}-{}{}.csv'.format(target_id, query_id, out_suffix)\n",
    "    cmd = 'IntaRNA --target={} --query={} '.format(target_fa, query_fa)\n",
    "    cmd += '--out=pMinE:{} --out={} '.format(heatmap_csv, subopt_csv)\n",
    "    params = '{} '.format(INTARNA_ARGS)\n",
    "    if acc_lunp is not None:\n",
    "        cmd += '--qAccFile={} '.format(lunp_shape)\n",
    "        params += '--qAcc=P '\n",
    "    \n",
    "    print (cmd, params)\n",
    "    p = Popen(cmd + params , stdin=PIPE, shell=True, stdout=PIPE, stderr=PIPE)\n",
    "    out, err = p.communicate()\n",
    "    if err or b\"ERROR\" in out:\n",
    "        raise RuntimeError(\"Error in calling intARNA\\n{}\\n{}\\n\".format(out, err))\n",
    "\n",
    "    #print (out)\n",
    "    df_subopts = pd.read_csv(subopt_csv,sep=';')\n",
    "    df_heatmap = pd.read_csv(heatmap_csv,sep=';')\n",
    "\n",
    "    #df_subopts['intarna_params:{}'.format(params)] = ''\n",
    "    return  df_subopts, df_heatmap\n",
    "\n",
    "def run_intaRNA_shape(query_fa, target_fa, query_id, target_id, shape_file=None, out_suffix='',\n",
    "                      spot_probs_pairs_str=None):\n",
    "\n",
    "    # Make a shell command line\n",
    "    subopt_csv = 'intarna-subopts_{}-{}{}.csv'.format(target_id, query_id, out_suffix)\n",
    "    heatmap_csv = 'intarna-heatmap_{}-{}{}.csv'.format(target_id, query_id, out_suffix)\n",
    "    spotprob_csv = 'intarna-spotProbs_{}-{}{}.csv'.format(target_id, query_id, out_suffix)\n",
    "\n",
    "    cmd = INTARNA_BIN + ' --target={} --query={} '.format(target_fa, query_fa)\n",
    "    cmd += '--out=pMinE:{} --out={} '.format(heatmap_csv, subopt_csv)\n",
    "    params = '{} '.format(INTARNA_ARGS)\n",
    "    \n",
    "    if shape_file is not None:\n",
    "        cmd += '--qShape {} '.format(shape_file)\n",
    "        params += '--qShapeMethod \"Z\" '\n",
    "    if spot_probs_pairs_str is not None:\n",
    "        cmd += '--out=\"spotProb:{}:{}\" '.format(spot_probs_pairs_str, spotprob_csv)\n",
    "    print (cmd, params)\n",
    "    p = Popen(cmd + params , stdin=PIPE, shell=True, stdout=PIPE, stderr=PIPE)\n",
    "    out, err = p.communicate()\n",
    "    if err or b\"ERROR\" in out:\n",
    "        raise RuntimeError(\"Error in calling IntARNA\\n{}\\n{}\\n\".format(out, err))\n",
    "\n",
    "    print (out)\n",
    "    df_subopts = pd.read_csv(subopt_csv,sep=';')\n",
    "    df_heatmap = pd.read_csv(heatmap_csv,sep=';')\n",
    "\n",
    "    #df_subopts['intarna_params:{}'.format(params)] = ''\n",
    "    return  df_subopts, df_heatmap, spotprob_csv\n",
    "\n",
    "def truncate_mRNA_to_CDS(fasta_mRNA,exon_regions):\n",
    "    startcodon_site = min([r[0] for r in exon_regions])\n",
    "    endcodon_site = max([r[1] for r in exon_regions]) \n",
    "    mrna_rec = SeqIO.read(fasta_mRNA,'fasta')\n",
    "    cds_rec = mrna_rec[startcodon_site-1:endcodon_site]\n",
    "    cds_rec.id = cds_rec.id+'-CDS-bounded'\n",
    "    SeqIO.write(cds_rec,fasta_mRNA+'.CDS.fa','fasta')\n",
    "    truncated_regions = [(r[0]-startcodon_site+1,r[1]-startcodon_site+1) for r in exon_regions]\n",
    "    return fasta_mRNA+'.CDS.fa', truncated_regions\n",
    "\n",
    "def run_intarna_shape_for_a_gene(target_gene_name, CDS_only=False,plot_selected_exon=None):\n",
    "    df_gff_exons, df_genes = gene_gff_to_df(target_gene_name)\n",
    "    fasta_bed_genomic = df_gff_to_bed_fasta(df_genes, target_gene_name)\n",
    "    myexon_regions = compute_relative_locs(df_gff_exons, df_genes.iloc[0]['start'], df_genes.iloc[0]['end'],\n",
    "                      df_genes.iloc[0]['strand'])\n",
    "    \n",
    "    # Double check that exons are sorted by rel position\n",
    "    for i in range(len(myexon_regions)-1):\n",
    "        assert(myexon_regions[i][0]<=myexon_regions[i+1][0])\n",
    "    \n",
    "    if CDS_only:\n",
    "        target_fasta,myexon_regions = truncate_mRNA_to_CDS(fasta_bed_genomic,myexon_regions)\n",
    "    else:\n",
    "        target_fasta = fasta_bed_genomic #'../data/RPS9/RPS9-genomic.fasta'\n",
    "    uniq_exon_ends = sorted(list(set([ex[1] for ex in myexon_regions])))\n",
    "    uniq_exon_ends = uniq_exon_ends[:-1] # mRNA end is not considered\n",
    "    spot_prob_locs = [\"{}&8\".format(exend+1) for exend in uniq_exon_ends] # Extract exon 3'end\n",
    "    \n",
    "    \n",
    "    mydf_subopts, mydf_heatmap, file_subopts = run_intaRNA_shape(query_fasta, target_fasta, query_id, target_gene_name, \n",
    "                                                               spot_probs_pairs_str=','.join(spot_prob_locs))\n",
    "    mydf_subopts_SHAPE, mydf_heatmap_SHAPE, file_subopts_SHAPE = run_intaRNA_shape(query_fasta, target_fasta, query_id, target_gene_name, \n",
    "            shape_file=query_react_idless, out_suffix='_INTARNASHAPE_', \n",
    "                                                               spot_probs_pairs_str=','.join(spot_prob_locs))\n",
    "\n",
    "    myfig, (ax1,ax2) = plt.subplots(figsize=[7,5],nrows=2)\n",
    "    myfig.tight_layout(rect=[0, 0.1, 1, 0.93])\n",
    "\n",
    "        \n",
    "    plot_minE_heatmap(mydf_heatmap, myexon_regions, target_gene_name +'-'+query_id+ '-NOSHAPE', \n",
    "                      fig=myfig, ax=ax1, plot_selected_exon=plot_selected_exon)\n",
    "    plot_minE_heatmap(mydf_heatmap_SHAPE, myexon_regions,target_gene_name + '-'+query_id+'-SHAPE', \n",
    "                      fig=myfig, ax=ax2, plot_selected_exon=plot_selected_exon)\n",
    "\n",
    "    \n",
    "    myfig.suptitle('mRNA: {}' .format(target_gene_name))\n",
    "    \n",
    "    myfig.savefig('heatmap_'+target_gene_name +'-'+query_id+'.png',dpi=600)\n",
    "    #myfig.savefig('heatmap_'+target_gene_name +'-'+query_id+'.pdf')\n",
    "    df_spotprobs,fig_spots = plot_spotprobs(file_subopts, file_subopts_SHAPE,what='both')\n",
    "    df_spotprobs['gene'] = target_gene_name\n",
    "    fig_spots.savefig('barplot_'+target_gene_name +'-'+query_id+'.png',bbox_to_anchor='tight')\n",
    "    fig_spots.savefig('barplot_'+target_gene_name +'-'+query_id+'.svg',bbox_to_anchor='tight')\n",
    "    return df_spotprobs\n",
    "run_intarna_shape_for_a_gene('RPS9', CDS_only=True,plot_selected_exon=1)"
   ]
  },
  {
   "cell_type": "markdown",
   "metadata": {},
   "source": [
    "## Analyse all mRNAs"
   ]
  },
  {
   "cell_type": "code",
   "execution_count": null,
   "metadata": {},
   "outputs": [],
   "source": [
    "dfs_spotprobs_genes_CDS = list()\n",
    "\n",
    "for gene in ['ACT1', 'RPS9', 'RPS10','RPL16A','NBR1',]:\n",
    "    df_spotprobs_gene = run_intarna_shape_for_a_gene(gene,CDS_only=True)\n",
    "    dfs_spotprobs_genes_CDS.append(df_spotprobs_gene)\n",
    "    plt.show()\n",
    "df_spotprobs_genes_CDS = pd.concat(dfs_spotprobs_genes_CDS) "
   ]
  },
  {
   "cell_type": "code",
   "execution_count": null,
   "metadata": {},
   "outputs": [],
   "source": [
    "df_spotprobs_genes_CDS"
   ]
  },
  {
   "cell_type": "code",
   "execution_count": null,
   "metadata": {
    "code_folding": [
     0
    ],
    "scrolled": false
   },
   "outputs": [],
   "source": [
    "def plot_aggregated_metrics(df_spotprobs,col='log2(probability_SHAPE/probability_STD)',ylim=[-0.9,6]):\n",
    "    sns.set_style('darkgrid')\n",
    "    myfig, ax = plt.subplots(figsize=[2.5,4.5])\n",
    "\n",
    "    sns.boxplot(col,data=df_spotprobs,orient='v',\n",
    "                #whis=np.inf,\n",
    "                fliersize=0,ax=ax,\n",
    "                color='y')\n",
    "    #sns.stripplot(col,data=df_spotprobs,color=\".3\",orient='v',jitter=True)\n",
    "    mean, median = df_spotprobs[col].mean(),df_spotprobs[col].median()\n",
    "    meanl, medianl = [str(np.round(s, 2)) for s in [mean, median]]\n",
    "    \n",
    "    pos = range(1)\n",
    "    tick,label = 0,ax.get_xticklabels()\n",
    "#     ax.text(pos[tick], median+0.5, meanl, \n",
    "#             horizontalalignment='center', size='small', color='w', weight='semibold')\n",
    "    ax.text(pos[tick], median+0.1, medianl, \n",
    "            horizontalalignment='center', color='k', weight='semibold')\n",
    "    plt.ylim(ylim)\n",
    "    plt.savefig('boxplot_all_{}.svg'.format(col.replace('/','-')))\n",
    "    plt.show()\n",
    "\n",
    "plot_aggregated_metrics(df_spotprobs_genes_CDS)\n",
    "plot_aggregated_metrics(df_spotprobs_genes_CDS,col='probability_SHAPE/probability_STD',ylim=[-1,40])"
   ]
  }
 ],
 "metadata": {
  "kernelspec": {
   "display_name": "Python 3",
   "language": "python",
   "name": "python3"
  },
  "language_info": {
   "codemirror_mode": {
    "name": "ipython",
    "version": 3
   },
   "file_extension": ".py",
   "mimetype": "text/x-python",
   "name": "python",
   "nbconvert_exporter": "python",
   "pygments_lexer": "ipython3",
   "version": "3.6.3"
  }
 },
 "nbformat": 4,
 "nbformat_minor": 2
}
